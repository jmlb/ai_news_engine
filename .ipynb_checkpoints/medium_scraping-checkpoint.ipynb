{
 "cells": [
  {
   "cell_type": "code",
   "execution_count": 1,
   "metadata": {},
   "outputs": [],
   "source": [
    "import requests\n",
    "from bs4 import BeautifulSoup\n",
    "import pandas as pd\n",
    "import random\n",
    "import os"
   ]
  },
  {
   "cell_type": "code",
   "execution_count": 28,
   "metadata": {},
   "outputs": [
    {
     "name": "stdout",
     "output_type": "stream",
     "text": [
      "/@marketing_novita.ai/master-llm-sentiment-analysis-a-simple-guide-a9692001e780?source=tag_archive---------8----------------------------\n",
      "/@rishitmayank/refining-the-role-of-gpt-4-llm-in-virtual-internships-f4bdb5798ea3?source=tag_archive---------1----------------------------\n",
      "/@ai-data-drive/学习langchain-02-记忆-memory-831c43a95149?source=tag_archive---------7----------------------------\n",
      "mailto:pressinquiries@medium.com?source=tag_archive-------------------------------------\n",
      "/@ai-data-drive/学习langchain-01-模型-models-f9ffc9f3157d?source=tag_archive---------9----------------------------\n",
      "/@ai-data-drive/学习langchain-03-链-chain-8642ea43501f?source=tag_archive---------6----------------------------\n",
      "/@nayanika.sarkar98/rag-q-a-from-video-content-using-lang-chain-and-mistral-7b-3714e063010b?source=tag_archive---------5----------------------------\n",
      "/@marketing_novita.ai?source=tag_archive---------4----------------------------\n",
      "/@sarath.samynathan?source=tag_archive---------2----------------------------\n",
      "/@chaudharysahil379/enhancing-mathematical-reasoning-in-ai-integrating-llms-with-monte-carlo-tree-search-b3ef188cba9a?source=tag_archive---------0----------------------------\n",
      "/@ai-data-drive?source=tag_archive---------9----------------------------\n",
      "/@marketing_novita.ai/simplify-llm-quantization-process-for-success-7126c26633df?source=tag_archive---------4----------------------------\n",
      "/@chaudharysahil379?source=tag_archive---------0----------------------------\n",
      "/@ai-data-drive?source=tag_archive---------6----------------------------\n",
      "/@nayanika.sarkar98?source=tag_archive---------5----------------------------\n",
      "/@khaoujai?source=tag_archive---------3----------------------------\n",
      "/@marketing_novita.ai?source=tag_archive---------8----------------------------\n",
      "/@rishitmayank?source=tag_archive---------1----------------------------\n",
      "/@khaoujai/literature-review-generation-using-llama-and-arxiv-8a25aecb3f04?source=tag_archive---------3----------------------------\n",
      "/@ai-data-drive?source=tag_archive---------7----------------------------\n"
     ]
    }
   ],
   "source": [
    "# Send a GET request to the URL\n",
    "url_topic = \"https://medium.com/tag/llm/archive\"\n",
    "headers = {\"User-Agent\": \"Mozilla/5.0 (Windows NT 10.0; Win64; x64) AppleWebKit/537.36 (KHTML, like Gecko) Chrome/58.0.3029.110 Safari/537.3\"}\n",
    "    \n",
    "response = requests.get(url_topic, headers=headers)\n",
    "\n",
    "# Check if the request was successful\n",
    "if response.status_code == 200:\n",
    "    # Parse the HTML content\n",
    "    soup = BeautifulSoup(response.text, 'html.parser')\n",
    "    \n",
    "    # Find all 'a' tags and extract the 'href' attribute\n",
    "    hrefs = [a.get('href') for a in soup.find_all('a') if a.get('href')]\n",
    "    hrefs = list(set([h for h in hrefs if \"@\" in h]))\n",
    "\n",
    "else:\n",
    "    print(f\"Failed to retrieve the web page. Status code: {response.status_code}\")\n",
    "    \n",
    "\n",
    "\n",
    "for link in hrefs:\n",
    "    print(link)"
   ]
  },
  {
   "cell_type": "code",
   "execution_count": 65,
   "metadata": {
    "scrolled": true
   },
   "outputs": [],
   "source": []
  },
  {
   "cell_type": "code",
   "execution_count": 63,
   "metadata": {},
   "outputs": [
    {
     "data": {
      "text/plain": [
       "[{'title': 'Enhancing Mathematical Reasoning in AI: Integrating LLMs with Monte Carlo Tree Search',\n",
       "  'link': 'https://medium.com/@chaudharysahil379/enhancing-mathematical-reasoning-in-ai-integrating-llms-with-monte-carlo-tree-search-b3ef188cba9a',\n",
       "  'img': 'https://miro.medium.com/v2/resize:fill:320:214/1*rXEX6IifVU0bhhKBQPBWpQ.png',\n",
       "  'snippet': 'Introduction',\n",
       "  'when': 'Just now'},\n",
       " {'title': 'Refining the Role of GPT-4 LLM in Virtual Internships',\n",
       "  'link': 'https://medium.com/@rishitmayank/refining-the-role-of-gpt-4-llm-in-virtual-internships-f4bdb5798ea3',\n",
       "  'img': 'https://miro.medium.com/v2/resize:fill:160:106/1*7xaWTdSG9NEJisj2TVdNzg.jpeg',\n",
       "  'snippet': 'The deployment of GPT-4 LLM as a virtual intern not only streamlines mundane tasks but also enriches the learning experience for human…',\n",
       "  'when': 'Just now'},\n",
       " {'title': 'Transformers in Large Language Model',\n",
       "  'link': 'https://medium.com/version-1/transformers-in-large-language-model-2f7d485f50b0',\n",
       "  'img': 'https://miro.medium.com/v2/resize:fill:40:40/1*dmbNkD5D-u45r44go_cf0g.png',\n",
       "  'snippet': 'OpenAI’s GPT (Generative Pre-trained Transformer) has rapidly captured global attention, massing over a million users due to its…',\n",
       "  'when': '1h ago'},\n",
       " {'title': 'Literature Review Generation using Llama and Arxiv',\n",
       "  'link': 'https://medium.com/@khaoujai/literature-review-generation-using-llama-and-arxiv-8a25aecb3f04',\n",
       "  'img': 'https://miro.medium.com/v2/resize:fill:160:106/1*RnUuSEEZ85v12_EZi6ajpg.png',\n",
       "  'snippet': 'In the rapidly evolving landscape of scientific research, staying up-to-date with the latest literature can be a daunting task. Researchers…',\n",
       "  'when': '1h ago'},\n",
       " {'title': 'Simplify LLM Quantization Process for Success',\n",
       "  'link': 'https://medium.com/@marketing_novita.ai/simplify-llm-quantization-process-for-success-7126c26633df',\n",
       "  'img': 'https://miro.medium.com/v2/resize:fill:320:214/0*8xOi1YNI2ICjqzeW.png',\n",
       "  'snippet': 'Simplify the LLM quantization process for success with our expert tips and guidance. Explore our blog for more insights.',\n",
       "  'when': '1h ago'},\n",
       " {'title': 'RAG\\xa0: Q/A from video content using Lang-chain and Mistral-7B',\n",
       "  'link': 'https://medium.com/@nayanika.sarkar98/rag-q-a-from-video-content-using-lang-chain-and-mistral-7b-3714e063010b',\n",
       "  'img': 'https://miro.medium.com/v2/resize:fill:320:214/1*LqV4jFfvQkr3zlPBtAdBfQ.png',\n",
       "  'snippet': 'Ever since the popularity of ChatGPT, the Large Language Models (LLMs) are creating a buzz worldwide, and why won’t it? Imagine having a…',\n",
       "  'when': '2h ago'},\n",
       " {'title': '【学习LangChain】02. 记忆（Memory）',\n",
       "  'link': 'https://medium.com/@ai-data-drive/学习langchain-02-记忆-memory-831c43a95149',\n",
       "  'img': 'https://miro.medium.com/v2/resize:fill:40:40/1*PLQOoPlL4HONwQv1AXUj9w.jpeg',\n",
       "  'snippet': 'Messages：LangChain 101: 记忆',\n",
       "  'when': '2h ago'},\n",
       " {'title': 'Master LLM Sentiment Analysis: A Simple Guide',\n",
       "  'link': 'https://medium.com/@marketing_novita.ai/master-llm-sentiment-analysis-a-simple-guide-a9692001e780',\n",
       "  'img': 'https://miro.medium.com/v2/resize:fill:160:106/0*blSKDaopPjMEL7Zo.png',\n",
       "  'snippet': 'Master LLM sentiment analysis effortlessly. Explore our simple guide to understanding and implementing LLM sentiment analysis.',\n",
       "  'when': '2h ago'}]"
      ]
     },
     "execution_count": 63,
     "metadata": {},
     "output_type": "execute_result"
    }
   ],
   "source": [
    "posts"
   ]
  },
  {
   "cell_type": "code",
   "execution_count": 47,
   "metadata": {},
   "outputs": [
    {
     "data": {
      "text/plain": [
       "<article class=\"\"><div class=\"kw l\"><div class=\"bg gd\"><div class=\"l\"><div class=\"bg l\"><div data-href=\"https://medium.com/@ai-data-drive/学习langchain-01-模型-models-f9ffc9f3157d\" role=\"link\" style=\"position:relative;display:flex\" tabindex=\"0\"><div class=\"bg kx ky kz la\"><div class=\"ab\"><div class=\"ff fg lb lc ld ab q\"><div class=\"ii l\"><div><div aria-hidden=\"false\" class=\"l\"><a href=\"/@ai-data-drive?source=tag_archive---------9----------------------------\" rel=\"noopener follow\" tabindex=\"-1\"><div class=\"l hp\"><img alt=\"Andy Yang\" class=\"l hj bx le lf ec\" height=\"20\" loading=\"lazy\" src=\"https://miro.medium.com/v2/resize:fill:40:40/1*PLQOoPlL4HONwQv1AXUj9w.jpeg\" width=\"20\"/><div class=\"hx bx l le lf hy n ax hz\"></div></div></a></div></div></div><div class=\"lg l\"><div><div aria-hidden=\"false\" class=\"l\"><a class=\"af ag ah ai aj ak al am an ao ap aq ar lh ab q\" href=\"/@ai-data-drive?source=tag_archive---------9----------------------------\" rel=\"noopener follow\"><p class=\"be b gc z ig li if lj lk ll lm ln bj\">Andy Yang</p></a></div></div></div></div></div><div class=\"ab\"><div class=\"l er lo\"><div class=\"lp lq lr ls lt lu lv lw lx ly\"><a class=\"af ag ah ai aj ak al am an ao ap aq ar as at\" href=\"/@ai-data-drive/学习langchain-01-模型-models-f9ffc9f3157d?source=tag_archive---------9----------------------------\" rel=\"noopener follow\"><h2 class=\"be lz ma mb mc md me mf mg mh mi mj mk ml mm mn mo mp mq mr ms mt mu mv mw mx my ig if lj ll ln bj\">【学习LangChain】01. 模型（Models）</h2><div class=\"mz\"><h3 class=\"be b na z ig nb if lj nc ll ln ek\">随着 ChatGPT、Claude 和 Gemini 等聊天机器人的普及，生成式人工智能迅速融入了我们的日常生活。而作为这些技术的核心，LLM（大语言模型）也逐渐成为开发者的重要工具。LLM…</h3></div></a></div><div class=\"h k j\"><div class=\"nd db ne dd nf df ng nh ni nj l\"><span class=\"be b gc z ek\"><div class=\"nk ab du ae\"><div class=\"ab q\">2h ago<div class=\"h k j i d\"><div class=\"hp nl fo ab q\"><div class=\"hy jv nm ab q\"><div class=\"aw fo nn l ec\"></div></div><a class=\"hy kb nm ab q\" href=\"/@ai-data-drive/学习langchain-01-模型-models-f9ffc9f3157d?source=tag_archive---------9----------------------------\" rel=\"noopener follow\" tabindex=\"-1\"></a></div></div></div><div class=\"ab q no np\"><div class=\"h k j i d\"><div><div aria-hidden=\"false\" class=\"bl\"><span><a class=\"af ag ah ai aj ak al am an ao ap aq ar as at\" href=\"/m/signin?actionUrl=https%3A%2F%2Fmedium.com%2F_%2Fbookmark%2Fp%2Ff9ffc9f3157d&amp;operation=register&amp;redirect=https%3A%2F%2Fmedium.com%2F%40ai-data-drive%2F%25E5%25AD%25A6%25E4%25B9%25A0langchain-01-%25E6%25A8%25A1%25E5%259E%258B-models-f9ffc9f3157d&amp;source=---------9-----------------bookmark_preview-----------\" rel=\"noopener follow\"><svg aria-label=\"Add to list bookmark button\" class=\"ek nq nr\" fill=\"none\" height=\"25\" viewbox=\"0 0 25 25\" width=\"25\" xmlns=\"http://www.w3.org/2000/svg\"><path d=\"M18 2.5a.5.5 0 0 1 1 0V5h2.5a.5.5 0 0 1 0 1H19v2.5a.5.5 0 1 1-1 0V6h-2.5a.5.5 0 0 1 0-1H18zM7 7a1 1 0 0 1 1-1h3.5a.5.5 0 0 0 0-1H8a2 2 0 0 0-2 2v14a.5.5 0 0 0 .805.396L12.5 17l5.695 4.396A.5.5 0 0 0 19 21v-8.5a.5.5 0 0 0-1 0v7.485l-5.195-4.012a.5.5 0 0 0-.61 0L7 19.985z\" fill=\"currentColor\"></path></svg></a></span></div></div></div></div></div></span></div></div></div><div class=\"ns nt nu nv nw l\"><div aria-label=\"【学习LangChain】01. 模型（Models）\"><div class=\"i d\"><img alt=\"【学习LangChain】01. 模型（Models）\" class=\"bw nx\" height=\"53\" loading=\"lazy\" src=\"https://miro.medium.com/v2/resize:fill:160:106/1*PCDbLHjjEaFFdcIgsKHo0A.png\" width=\"80\"/></div><div class=\"h k j\"><img alt=\"【学习LangChain】01. 模型（Models）\" class=\"bw nx\" height=\"107\" loading=\"lazy\" src=\"https://miro.medium.com/v2/resize:fill:320:214/1*PCDbLHjjEaFFdcIgsKHo0A.png\" width=\"160\"/></div></div></div></div><div class=\"ny i d\"><span class=\"be b gc z ek\"><div class=\"nk ab du ae\"><div class=\"ab q\">2h ago<div class=\"h k j i d\"><div class=\"hp nl fo ab q\"><div class=\"hy jv nm ab q\"><div class=\"aw fo nn l ec\"></div></div><a class=\"hy kb nm ab q\" href=\"/@ai-data-drive/学习langchain-01-模型-models-f9ffc9f3157d?source=tag_archive---------9----------------------------\" rel=\"noopener follow\" tabindex=\"-1\"></a></div></div></div><div class=\"ab q no np\"><div class=\"h k j i d\"><div><div aria-hidden=\"false\" class=\"bl\"><span><a class=\"af ag ah ai aj ak al am an ao ap aq ar as at\" href=\"/m/signin?actionUrl=https%3A%2F%2Fmedium.com%2F_%2Fbookmark%2Fp%2Ff9ffc9f3157d&amp;operation=register&amp;redirect=https%3A%2F%2Fmedium.com%2F%40ai-data-drive%2F%25E5%25AD%25A6%25E4%25B9%25A0langchain-01-%25E6%25A8%25A1%25E5%259E%258B-models-f9ffc9f3157d&amp;source=---------9-----------------bookmark_preview-----------\" rel=\"noopener follow\"><svg aria-label=\"Add to list bookmark button\" class=\"ek nq nr\" fill=\"none\" height=\"25\" viewbox=\"0 0 25 25\" width=\"25\" xmlns=\"http://www.w3.org/2000/svg\"><path d=\"M18 2.5a.5.5 0 0 1 1 0V5h2.5a.5.5 0 0 1 0 1H19v2.5a.5.5 0 1 1-1 0V6h-2.5a.5.5 0 0 1 0-1H18zM7 7a1 1 0 0 1 1-1h3.5a.5.5 0 0 0 0-1H8a2 2 0 0 0-2 2v14a.5.5 0 0 0 .805.396L12.5 17l5.695 4.396A.5.5 0 0 0 19 21v-8.5a.5.5 0 0 0-1 0v7.485l-5.195-4.012a.5.5 0 0 0-.61 0L7 19.985z\" fill=\"currentColor\"></path></svg></a></span></div></div></div></div></div></span></div></div></div></div></div></div></div></article>"
      ]
     },
     "execution_count": 47,
     "metadata": {},
     "output_type": "execute_result"
    }
   ],
   "source": [
    "article"
   ]
  },
  {
   "cell_type": "code",
   "execution_count": 127,
   "metadata": {},
   "outputs": [
    {
     "ename": "IndexError",
     "evalue": "list index out of range",
     "output_type": "error",
     "traceback": [
      "\u001b[0;31m---------------------------------------------------------------------------\u001b[0m",
      "\u001b[0;31mIndexError\u001b[0m                                Traceback (most recent call last)",
      "Cell \u001b[0;32mIn[127], line 141\u001b[0m\n\u001b[1;32m    139\u001b[0m run \u001b[38;5;241m=\u001b[39m \u001b[38;5;28;01mTrue\u001b[39;00m\n\u001b[1;32m    140\u001b[0m \u001b[38;5;28;01mwhile\u001b[39;00m run:  \u001b[38;5;66;03m# Condition to stop scrolling (e.g., 50 articles)\u001b[39;00m\n\u001b[0;32m--> 141\u001b[0m     articles \u001b[38;5;241m=\u001b[39m \u001b[43mextract_articles\u001b[49m\u001b[43m(\u001b[49m\u001b[43mdriver\u001b[49m\u001b[43m)\u001b[49m\n\u001b[1;32m    142\u001b[0m     \u001b[38;5;28;01mfor\u001b[39;00m article \u001b[38;5;129;01min\u001b[39;00m articles:\n\u001b[1;32m    143\u001b[0m         ts \u001b[38;5;241m=\u001b[39m article[\u001b[38;5;124m\"\u001b[39m\u001b[38;5;124mwhen\u001b[39m\u001b[38;5;124m\"\u001b[39m]\n",
      "Cell \u001b[0;32mIn[127], line 118\u001b[0m, in \u001b[0;36mextract_articles\u001b[0;34m(driver)\u001b[0m\n\u001b[1;32m    116\u001b[0m article_data \u001b[38;5;241m=\u001b[39m []\n\u001b[1;32m    117\u001b[0m \u001b[38;5;28;01mfor\u001b[39;00m this_article \u001b[38;5;129;01min\u001b[39;00m articles:\n\u001b[0;32m--> 118\u001b[0m     post \u001b[38;5;241m=\u001b[39m \u001b[43mparsing_article\u001b[49m\u001b[43m(\u001b[49m\u001b[43mthis_article\u001b[49m\u001b[43m)\u001b[49m\n\u001b[1;32m    119\u001b[0m     \u001b[38;5;28;01mif\u001b[39;00m detect(post[\u001b[38;5;124m\"\u001b[39m\u001b[38;5;124mtitle\u001b[39m\u001b[38;5;124m\"\u001b[39m]) \u001b[38;5;241m!=\u001b[39m \u001b[38;5;124m\"\u001b[39m\u001b[38;5;124men\u001b[39m\u001b[38;5;124m\"\u001b[39m:\n\u001b[1;32m    120\u001b[0m         \u001b[38;5;28;01mcontinue\u001b[39;00m\n",
      "Cell \u001b[0;32mIn[127], line 95\u001b[0m, in \u001b[0;36mparsing_article\u001b[0;34m(this_article)\u001b[0m\n\u001b[1;32m     92\u001b[0m title \u001b[38;5;241m=\u001b[39m extract_title(this_article)\n\u001b[1;32m     93\u001b[0m when \u001b[38;5;241m=\u001b[39m extract_post_timing(this_article)\n\u001b[0;32m---> 95\u001b[0m post \u001b[38;5;241m=\u001b[39m {\u001b[38;5;124m\"\u001b[39m\u001b[38;5;124mtitle\u001b[39m\u001b[38;5;124m\"\u001b[39m: title, \u001b[38;5;124m\"\u001b[39m\u001b[38;5;124mlink\u001b[39m\u001b[38;5;124m\"\u001b[39m: link, \u001b[38;5;124m\"\u001b[39m\u001b[38;5;124mimg\u001b[39m\u001b[38;5;124m\"\u001b[39m: \u001b[43mimgs\u001b[49m\u001b[43m[\u001b[49m\u001b[38;5;241;43m0\u001b[39;49m\u001b[43m]\u001b[49m, \u001b[38;5;124m\"\u001b[39m\u001b[38;5;124msnippet\u001b[39m\u001b[38;5;124m\"\u001b[39m: snippet[\u001b[38;5;241m0\u001b[39m], \u001b[38;5;124m\"\u001b[39m\u001b[38;5;124mwhen\u001b[39m\u001b[38;5;124m\"\u001b[39m: when}\n\u001b[1;32m     97\u001b[0m \u001b[38;5;28;01mreturn\u001b[39;00m post\n",
      "\u001b[0;31mIndexError\u001b[0m: list index out of range"
     ]
    }
   ],
   "source": [
    "from selenium import webdriver\n",
    "from selenium.webdriver.common.by import By\n",
    "from selenium.webdriver.common.keys import Keys\n",
    "from selenium.webdriver.common.action_chains import ActionChains\n",
    "from selenium.webdriver.support.ui import WebDriverWait\n",
    "from selenium.webdriver.support import expected_conditions as EC\n",
    "from bs4 import BeautifulSoup\n",
    "import time\n",
    "import re\n",
    "\n",
    "from langdetect import detect\n",
    "\n",
    "\n",
    "def extract_post_timing(article):\n",
    "    divs = article.find_all(\"div\")\n",
    "    div_texts = [x.get_text(strip=True) for x in divs]\n",
    "    when = [x for x in div_texts if isinstance(x, str)]\n",
    "    when = [replace_just_now(x) for x in when]\n",
    "\n",
    "    when_ = []\n",
    "    for x in when:\n",
    "        m = extract_time_ago(x)\n",
    "        if len(m) > 0:\n",
    "            when_ += m\n",
    "\n",
    "    when = list(set(when_))\n",
    "    if len(when) > 0:\n",
    "        when = when[0]\n",
    "    else:\n",
    "        print(f\"Failed when ....{div_texts}\\n\")\n",
    "        when = None\n",
    "        \n",
    "    return when\n",
    "\n",
    "def extract_time_ago(input_string):\n",
    "    # Define the regex pattern to match the time format\n",
    "    pattern = r'\\b\\d{1,2}[hd] ago'\n",
    "    # Find all matches in the input string\n",
    "    matches = re.findall(pattern, input_string)\n",
    "    return matches\n",
    "\n",
    "\n",
    "def replace_just_now(input_str):\n",
    "    if input_str.lower() == \"just now\":\n",
    "        return \"0h ago\"\n",
    "    return input_str\n",
    "\n",
    "\n",
    "def extract_links(this_article):\n",
    "    # extract link\n",
    "    links = [a.get('data-href') for a in this_article.find_all('div') if a.get('data-href')]\n",
    "    if len(links) > 0:\n",
    "        return links[0]\n",
    "    else:\n",
    "        print(f\"Failed links ....{links}\\n\")\n",
    "        return None\n",
    "\n",
    "\n",
    "def extract_snippet(this_article):\n",
    "    # extract short text\n",
    "    h3s = this_article.find_all('h3')\n",
    "    snippet = [h3.get_text(strip=True) for h3 in h3s]\n",
    "    if len(snippet) > 0:\n",
    "        return snippet[0]\n",
    "    else:\n",
    "        print(f\"Failed snippet ....{links}\\n\")\n",
    "        None\n",
    "\n",
    "\n",
    "def extract_title(this_article):\n",
    "        # extract title\n",
    "    h2s = this_article.find_all('h2')\n",
    "    titles = [h2.get_text(strip=True) for h2 in h2s]\n",
    "    \n",
    "    titles_ = [x.get(\"aria-label\") for x in this_article.find_all('div')]\n",
    "    titles_ = [x for x in titles_ if isinstance(x, str)]\n",
    "    if len(titles_) > 0:\n",
    "        title = titles_[0]\n",
    "    elif len(titles) > 0:\n",
    "        title = titles[0]\n",
    "    else:\n",
    "        print(f\"Failed links ....{titles_}\\n\")\n",
    "        title = None\n",
    "\n",
    "    return title\n",
    "\n",
    "def extract_image(this_article):\n",
    "        imgs = list(set([x.get(\"src\") for x in this_article.find_all('img')]))\n",
    "    imgs = [img for img in imgs if \".jpg\" in img.lower() or \".png\" in img.lower() or \".jpeg\" in img.lower()]\n",
    "\n",
    "    return \n",
    "\n",
    "def parsing_article(this_article):\n",
    "\n",
    "    link = extract_links(this_article)\n",
    "    \n",
    "\n",
    "\n",
    "    title = extract_title(this_article)\n",
    "    when = extract_post_timing(this_article)\n",
    "\n",
    "    post = {\"title\": title, \"link\": link, \"img\": imgs[0], \"snippet\": snippet[0], \"when\": when}\n",
    "\n",
    "    return post\n",
    "\n",
    "\n",
    "\n",
    "\n",
    "# Initialize the WebDriver\n",
    "driver = webdriver.Chrome()\n",
    "\n",
    "# URL of the Medium tag page\n",
    "url = \"https://medium.com/tag/llm/archive\"\n",
    "driver.get(url)\n",
    "\n",
    "# Wait until the page is fully loaded\n",
    "WebDriverWait(driver, 10).until(EC.presence_of_element_located((By.TAG_NAME, 'body')))\n",
    "\n",
    "# # Define a function to extract articles\n",
    "def extract_articles(driver):\n",
    "    soup = BeautifulSoup(driver.page_source, 'html.parser')\n",
    "    articles = soup.find_all('article')\n",
    "    article_data = []\n",
    "    for this_article in articles:\n",
    "        post = parsing_article(this_article)\n",
    "        if detect(post[\"title\"]) != \"en\":\n",
    "            continue\n",
    "        \n",
    "    return article_data\n",
    "\n",
    "\n",
    "# Helper function to check if the timestamp is longer than 1 day ago\n",
    "def is_longer_than_1_day(timestamp):\n",
    "    if 'd ago' in timestamp:\n",
    "        return True\n",
    "    if 'h ago' in timestamp or 'hr ago' in timestamp:\n",
    "        return False\n",
    "    return False\n",
    "\n",
    "\n",
    "\n",
    "\n",
    "\n",
    "# Scroll the page and collect articles\n",
    "collected_articles = set()\n",
    "run = True\n",
    "while run:  # Condition to stop scrolling (e.g., 50 articles)\n",
    "    articles = extract_articles(driver)\n",
    "    for article in articles:\n",
    "        ts = article[\"when\"]\n",
    "        if is_longer_than_1_day(ts):\n",
    "           run = False\n",
    "        else:\n",
    "            collected_articles.add(article)\n",
    "\n",
    "    # Scroll to the bottom of the page\n",
    "    driver.execute_script(\"window.scrollTo(0, document.body.scrollHeight);\")\n",
    "    time.sleep(2)  # Wait for new content to load\n",
    "\n",
    "# Close the WebDriver\n",
    "driver.quit()\n"
   ]
  },
  {
   "cell_type": "code",
   "execution_count": 93,
   "metadata": {},
   "outputs": [],
   "source": [
    "for article in articles:\n",
    "    when = article.find_all(\"div\")\n",
    "    print([x.get_text(strip=True) for x in when])"
   ]
  },
  {
   "cell_type": "code",
   "execution_count": 104,
   "metadata": {},
   "outputs": [],
   "source": [
    "z = ['Imane KhaoujaLiterature Review Generation using Llama and ArxivIn the rapidly evolving landscape of scientific research, staying up-to-date with the latest literature can be a daunting task. Researchers…10h ago110h ago1', 'Imane KhaoujaLiterature Review Generation using Llama and ArxivIn the rapidly evolving landscape of scientific research, staying up-to-date with the latest literature can be a daunting task. Researchers…10h ago110h ago1', 'Imane KhaoujaLiterature Review Generation using Llama and ArxivIn the rapidly evolving landscape of scientific research, staying up-to-date with the latest literature can be a daunting task. Researchers…10h ago110h ago1', 'Imane KhaoujaLiterature Review Generation using Llama and ArxivIn the rapidly evolving landscape of scientific research, staying up-to-date with the latest literature can be a daunting task. Researchers…10h ago110h ago1', 'Imane KhaoujaLiterature Review Generation using Llama and ArxivIn the rapidly evolving landscape of scientific research, staying up-to-date with the latest literature can be a daunting task. Researchers…10h ago110h ago1', 'Imane KhaoujaLiterature Review Generation using Llama and ArxivIn the rapidly evolving landscape of scientific research, staying up-to-date with the latest literature can be a daunting task. Researchers…10h ago110h ago1', 'Imane Khaouja', 'Imane Khaouja', '', '', '', '', '', 'Imane Khaouja', 'Imane Khaouja', 'Imane Khaouja', 'Literature Review Generation using Llama and ArxivIn the rapidly evolving landscape of scientific research, staying up-to-date with the latest literature can be a daunting task. Researchers…10h ago1', 'Literature Review Generation using Llama and ArxivIn the rapidly evolving landscape of scientific research, staying up-to-date with the latest literature can be a daunting task. Researchers…10h ago1', 'Literature Review Generation using Llama and ArxivIn the rapidly evolving landscape of scientific research, staying up-to-date with the latest literature can be a daunting task. Researchers…', 'In the rapidly evolving landscape of scientific research, staying up-to-date with the latest literature can be a daunting task. Researchers…', '10h ago1', '10h ago1', '10h ago1', '10h ago1', '1', '1', '', '', '1', '1', '1', '1', '', '', '', '', '', '', '', '', '10h ago1', '10h ago1', '10h ago1', '1', '1', '', '', '1', '1', '1', '1', '', '', '', '', '']"
   ]
  },
  {
   "cell_type": "code",
   "execution_count": 126,
   "metadata": {},
   "outputs": [
    {
     "data": {
      "text/plain": [
       "['10h ago']"
      ]
     },
     "execution_count": 126,
     "metadata": {},
     "output_type": "execute_result"
    }
   ],
   "source": [
    "z = '10h ago 12112'\n",
    "\n",
    "pattern = r'\\d{1,2}[hd] ago'\n",
    "# Find all matches in the input string\n",
    "matches = re.findall(pattern, z)\n",
    "matches"
   ]
  },
  {
   "cell_type": "code",
   "execution_count": 99,
   "metadata": {},
   "outputs": [
    {
     "data": {
      "text/plain": [
       "<article class=\"\"><div class=\"kw l\"><div class=\"bg gd\"><div class=\"l\"><div class=\"bg l\"><div data-href=\"https://medium.com/@ai-data-drive/学习langchain-01-模型-models-f9ffc9f3157d\" role=\"link\" style=\"position:relative;display:flex\" tabindex=\"0\"><div class=\"bg kx ky kz la\"><div class=\"ab\"><div class=\"ff fg lb lc ld ab q\"><div class=\"ii l\"><div><div aria-hidden=\"false\" class=\"l\"><a href=\"/@ai-data-drive?source=tag_archive---------9----------------------------\" rel=\"noopener follow\" tabindex=\"-1\"><div class=\"l hp\"><img alt=\"Andy Yang\" class=\"l hj bx le lf ec\" height=\"20\" loading=\"lazy\" src=\"https://miro.medium.com/v2/resize:fill:40:40/1*PLQOoPlL4HONwQv1AXUj9w.jpeg\" width=\"20\"/><div class=\"hx bx l le lf hy n ax hz\"></div></div></a></div></div></div><div class=\"lg l\"><div><div aria-hidden=\"false\" class=\"l\"><a class=\"af ag ah ai aj ak al am an ao ap aq ar lh ab q\" href=\"/@ai-data-drive?source=tag_archive---------9----------------------------\" rel=\"noopener follow\"><p class=\"be b gc z ig li if lj lk ll lm ln bj\">Andy Yang</p></a></div></div></div></div></div><div class=\"ab\"><div class=\"l er lo\"><div class=\"lp lq lr ls lt lu lv lw lx ly\"><a class=\"af ag ah ai aj ak al am an ao ap aq ar as at\" href=\"/@ai-data-drive/学习langchain-01-模型-models-f9ffc9f3157d?source=tag_archive---------9----------------------------\" rel=\"noopener follow\"><h2 class=\"be lz ma mb mc md me mf mg mh mi mj mk ml mm mn mo mp mq mr ms mt mu mv mw mx my ig if lj ll ln bj\">【学习LangChain】01. 模型（Models）</h2><div class=\"mz\"><h3 class=\"be b na z ig nb if lj nc ll ln ek\">随着 ChatGPT、Claude 和 Gemini 等聊天机器人的普及，生成式人工智能迅速融入了我们的日常生活。而作为这些技术的核心，LLM（大语言模型）也逐渐成为开发者的重要工具。LLM…</h3></div></a></div><div class=\"h k j\"><div class=\"nd db ne dd nf df ng nh ni nj l\"><span class=\"be b gc z ek\"><div class=\"nk ab du ae\"><div class=\"ab q\">2h ago<div class=\"h k j i d\"><div class=\"hp nl fo ab q\"><div class=\"hy jv nm ab q\"><div class=\"aw fo nn l ec\"></div></div><a class=\"hy kb nm ab q\" href=\"/@ai-data-drive/学习langchain-01-模型-models-f9ffc9f3157d?source=tag_archive---------9----------------------------\" rel=\"noopener follow\" tabindex=\"-1\"></a></div></div></div><div class=\"ab q no np\"><div class=\"h k j i d\"><div><div aria-hidden=\"false\" class=\"bl\"><span><a class=\"af ag ah ai aj ak al am an ao ap aq ar as at\" href=\"/m/signin?actionUrl=https%3A%2F%2Fmedium.com%2F_%2Fbookmark%2Fp%2Ff9ffc9f3157d&amp;operation=register&amp;redirect=https%3A%2F%2Fmedium.com%2F%40ai-data-drive%2F%25E5%25AD%25A6%25E4%25B9%25A0langchain-01-%25E6%25A8%25A1%25E5%259E%258B-models-f9ffc9f3157d&amp;source=---------9-----------------bookmark_preview-----------\" rel=\"noopener follow\"><svg aria-label=\"Add to list bookmark button\" class=\"ek nq nr\" fill=\"none\" height=\"25\" viewbox=\"0 0 25 25\" width=\"25\" xmlns=\"http://www.w3.org/2000/svg\"><path d=\"M18 2.5a.5.5 0 0 1 1 0V5h2.5a.5.5 0 0 1 0 1H19v2.5a.5.5 0 1 1-1 0V6h-2.5a.5.5 0 0 1 0-1H18zM7 7a1 1 0 0 1 1-1h3.5a.5.5 0 0 0 0-1H8a2 2 0 0 0-2 2v14a.5.5 0 0 0 .805.396L12.5 17l5.695 4.396A.5.5 0 0 0 19 21v-8.5a.5.5 0 0 0-1 0v7.485l-5.195-4.012a.5.5 0 0 0-.61 0L7 19.985z\" fill=\"currentColor\"></path></svg></a></span></div></div></div></div></div></span></div></div></div><div class=\"ns nt nu nv nw l\"><div aria-label=\"【学习LangChain】01. 模型（Models）\"><div class=\"i d\"><img alt=\"【学习LangChain】01. 模型（Models）\" class=\"bw nx\" height=\"53\" loading=\"lazy\" src=\"https://miro.medium.com/v2/resize:fill:160:106/1*PCDbLHjjEaFFdcIgsKHo0A.png\" width=\"80\"/></div><div class=\"h k j\"><img alt=\"【学习LangChain】01. 模型（Models）\" class=\"bw nx\" height=\"107\" loading=\"lazy\" src=\"https://miro.medium.com/v2/resize:fill:320:214/1*PCDbLHjjEaFFdcIgsKHo0A.png\" width=\"160\"/></div></div></div></div><div class=\"ny i d\"><span class=\"be b gc z ek\"><div class=\"nk ab du ae\"><div class=\"ab q\">2h ago<div class=\"h k j i d\"><div class=\"hp nl fo ab q\"><div class=\"hy jv nm ab q\"><div class=\"aw fo nn l ec\"></div></div><a class=\"hy kb nm ab q\" href=\"/@ai-data-drive/学习langchain-01-模型-models-f9ffc9f3157d?source=tag_archive---------9----------------------------\" rel=\"noopener follow\" tabindex=\"-1\"></a></div></div></div><div class=\"ab q no np\"><div class=\"h k j i d\"><div><div aria-hidden=\"false\" class=\"bl\"><span><a class=\"af ag ah ai aj ak al am an ao ap aq ar as at\" href=\"/m/signin?actionUrl=https%3A%2F%2Fmedium.com%2F_%2Fbookmark%2Fp%2Ff9ffc9f3157d&amp;operation=register&amp;redirect=https%3A%2F%2Fmedium.com%2F%40ai-data-drive%2F%25E5%25AD%25A6%25E4%25B9%25A0langchain-01-%25E6%25A8%25A1%25E5%259E%258B-models-f9ffc9f3157d&amp;source=---------9-----------------bookmark_preview-----------\" rel=\"noopener follow\"><svg aria-label=\"Add to list bookmark button\" class=\"ek nq nr\" fill=\"none\" height=\"25\" viewbox=\"0 0 25 25\" width=\"25\" xmlns=\"http://www.w3.org/2000/svg\"><path d=\"M18 2.5a.5.5 0 0 1 1 0V5h2.5a.5.5 0 0 1 0 1H19v2.5a.5.5 0 1 1-1 0V6h-2.5a.5.5 0 0 1 0-1H18zM7 7a1 1 0 0 1 1-1h3.5a.5.5 0 0 0 0-1H8a2 2 0 0 0-2 2v14a.5.5 0 0 0 .805.396L12.5 17l5.695 4.396A.5.5 0 0 0 19 21v-8.5a.5.5 0 0 0-1 0v7.485l-5.195-4.012a.5.5 0 0 0-.61 0L7 19.985z\" fill=\"currentColor\"></path></svg></a></span></div></div></div></div></div></span></div></div></div></div></div></div></div></article>"
      ]
     },
     "execution_count": 99,
     "metadata": {},
     "output_type": "execute_result"
    }
   ],
   "source": [
    "article"
   ]
  },
  {
   "cell_type": "code",
   "execution_count": null,
   "metadata": {},
   "outputs": [],
   "source": []
  }
 ],
 "metadata": {
  "kernelspec": {
   "display_name": "Python 3 (ipykernel)",
   "language": "python",
   "name": "python3"
  },
  "language_info": {
   "codemirror_mode": {
    "name": "ipython",
    "version": 3
   },
   "file_extension": ".py",
   "mimetype": "text/x-python",
   "name": "python",
   "nbconvert_exporter": "python",
   "pygments_lexer": "ipython3",
   "version": "3.10.12"
  }
 },
 "nbformat": 4,
 "nbformat_minor": 4
}
